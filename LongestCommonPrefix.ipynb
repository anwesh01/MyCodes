{
 "cells": [
  {
   "cell_type": "code",
   "execution_count": 19,
   "id": "e5561d33",
   "metadata": {},
   "outputs": [
    {
     "name": "stdout",
     "output_type": "stream",
     "text": [
      "fl\n"
     ]
    }
   ],
   "source": [
    "#class Solution:\n",
    "#    def longestCommonPrefix(self, strs: List[str]) -> str:\n",
    "#        for x in strs:\n",
    "#            print(x[0])\n",
    "#        \n",
    "#        return strs[0]\n",
    "#\n",
    "#strs=[\"flower\",\"flight\",\"flow\"]\n",
    "#var=longestCommonPrefix(strs)\n",
    "\n",
    "class Solution(object):\n",
    "    def longestCommonPrefix(self, strs):\n",
    "        y=0\n",
    "        str=\"\"\n",
    "        brk=False\n",
    "        shortest=min(strs,key=len)\n",
    "        while y < len(shortest) and brk==False:\n",
    "            list=[]\n",
    "            for x in strs:\n",
    "                list.append(x[y])\n",
    "            if list.count(list[0])==len(list):\n",
    "                str+=x[y]\n",
    "                list=[]\n",
    "            else:\n",
    "                brk=True\n",
    "            y+=1\n",
    "                    \n",
    "        return str\n",
    "strs=[\"flower\",\"flight\",\"flow\"]\n",
    "obj=Solution()\n",
    "print(obj.longestCommonPrefix(strs))"
   ]
  },
  {
   "cell_type": "code",
   "execution_count": null,
   "id": "ef278986",
   "metadata": {},
   "outputs": [],
   "source": []
  }
 ],
 "metadata": {
  "kernelspec": {
   "display_name": "Python 3 (ipykernel)",
   "language": "python",
   "name": "python3"
  },
  "language_info": {
   "codemirror_mode": {
    "name": "ipython",
    "version": 3
   },
   "file_extension": ".py",
   "mimetype": "text/x-python",
   "name": "python",
   "nbconvert_exporter": "python",
   "pygments_lexer": "ipython3",
   "version": "3.9.7"
  }
 },
 "nbformat": 4,
 "nbformat_minor": 5
}
