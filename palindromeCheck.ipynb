{
 "cells": [
  {
   "cell_type": "code",
   "execution_count": 18,
   "id": "4c0a7e76",
   "metadata": {},
   "outputs": [
    {
     "name": "stdout",
     "output_type": "stream",
     "text": [
      "String is a palindrome\n"
     ]
    }
   ],
   "source": [
    "def palindromeCheck(name):\n",
    "    var = name[::-1]\n",
    "    if var == name:\n",
    "        return 1\n",
    "    else:\n",
    "        return 0\n",
    "\n",
    "a = palindromeCheck(\"malayalam\")\n",
    "if a == 1:\n",
    "    print(\"String is a palindrome\")\n",
    "else:\n",
    "    print(\"String is not palindrome\")\n",
    "\n",
    "        "
   ]
  }
 ],
 "metadata": {
  "kernelspec": {
   "display_name": "Python 3 (ipykernel)",
   "language": "python",
   "name": "python3"
  },
  "language_info": {
   "codemirror_mode": {
    "name": "ipython",
    "version": 3
   },
   "file_extension": ".py",
   "mimetype": "text/x-python",
   "name": "python",
   "nbconvert_exporter": "python",
   "pygments_lexer": "ipython3",
   "version": "3.9.7"
  }
 },
 "nbformat": 4,
 "nbformat_minor": 5
}
